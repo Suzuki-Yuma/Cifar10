{
 "cells": [
  {
   "cell_type": "markdown",
   "metadata": {},
   "source": [
    "### 必要なライブラリのロード"
   ]
  },
  {
   "cell_type": "code",
   "execution_count": null,
   "metadata": {},
   "outputs": [],
   "source": [
    "!sudo pip install tensorflow-gpu==1.2"
   ]
  },
  {
   "cell_type": "code",
   "execution_count": null,
   "metadata": {},
   "outputs": [],
   "source": [
    "import tensorflow as tf\n",
    "\n",
    "from __future__ import print_function\n",
    "\n",
    "%matplotlib inline\n",
    "import matplotlib.pyplot as plt \n",
    "import numpy as np\n",
    "import pickle"
   ]
  },
  {
   "cell_type": "markdown",
   "metadata": {},
   "source": [
    "### データの準備"
   ]
  },
  {
   "cell_type": "code",
   "execution_count": null,
   "metadata": {},
   "outputs": [],
   "source": [
    "# データのロード\n",
    "#訓練データ\n",
    "dataset = []\n",
    "for i in range(5):\n",
    "    with open('cifar-10-batches-py/data_batch_'+str(i+1), 'r') as f:\n",
    "        dataset.append(pickle.load(f))\n",
    "X_train, T_train = [], []\n",
    "for i in range(5):\n",
    "    X_train.extend(dataset[i][b'data']), T_train.extend(dataset[i][b'labels'])\n",
    "X_train = np.asarray(X_train).reshape(-1, 3, 32, 32).transpose(0,2,3,1)\n",
    "T_train = np.asarray(T_train)\n",
    "X_train = X_train/255.\n",
    "#テストデータ\n",
    "with open('cifar-10-batches-py/test_batch', 'r') as f:\n",
    "    dataset = pickle.load(f)\n",
    "X_test, T_test = dataset[b'data'], dataset[b'labels']\n",
    "X_test = np.asarray(X_test).reshape(-1, 3, 32, 32).transpose(0,2,3,1)\n",
    "T_test = np.asarray(T_test)\n",
    "X_test = X_test/255.\n",
    "\n",
    "# データのサイズ\n",
    "N_train = X_train.shape[0]\n",
    "N_test = X_test.shape[0]\n",
    "\n",
    "# ラベルデータをone-hot-vectorに変換\n",
    "T_train = np.eye(10)[T_train.astype(\"int\")]\n",
    "T_test = np.eye(10)[T_test.astype(\"int\")]"
   ]
  },
  {
   "cell_type": "code",
   "execution_count": null,
   "metadata": {},
   "outputs": [],
   "source": [
    "print ('訓練データのサイズは', N_train)\n",
    "print ('テストデータのサイズは', N_test)\n",
    "print ('画像データのshapeは', X_train.shape)\n",
    "print ('ラベルデータのshapeは', T_train.shape)\n",
    "print ('ラベルデータの数値の例：')\n",
    "print (T_train[:10])\n",
    "print ('画像データの例：')\n",
    "for i in range(10):\n",
    "    plt.subplot(2, 5, i + 1)\n",
    "    plt.imshow(X_train[i])\n",
    "    plt.axis('off')"
   ]
  },
  {
   "cell_type": "markdown",
   "metadata": {},
   "source": [
    "### ネットワーク構造"
   ]
  },
  {
   "cell_type": "code",
   "execution_count": null,
   "metadata": {},
   "outputs": [],
   "source": [
    "def CNN(x, training):\n",
    "    input_layer = tf.reshape(x, [-1, 32, 32, 3])\n",
    "    \n",
    "    conv1 = tf.layers.conv2d(input_layer, filters=32, kernel_size=3, padding=\"same\")\n",
    "    act1 = tf.nn.relu(conv1)\n",
    "    \n",
    "    conv2 = tf.layers.conv2d(act1, filters=32, kernel_size=3, padding=\"same\")\n",
    "    act2 = tf.nn.relu(conv2)\n",
    "    \n",
    "    pool1 = tf.layers.max_pooling2d(act2, pool_size=2, strides=2)\n",
    "    drop1 = tf.layers.dropout(pool1, 0.2, training=training)\n",
    "    \n",
    "    conv3 = tf.layers.conv2d(drop1, filters=64, kernel_size=3, padding=\"same\")\n",
    "    act3 = tf.nn.relu(conv3)\n",
    "    \n",
    "    conv4 = tf.layers.conv2d(act3, filters=64, kernel_size=3, padding=\"same\")\n",
    "    act4 = tf.nn.relu(conv4)\n",
    "    \n",
    "    pool2 = tf.layers.max_pooling2d(act4, pool_size=[2, 2], strides=2)\n",
    "    drop2 = tf.layers.dropout(pool2, 0.2, training=training)\n",
    "    \n",
    "    conv5 = tf.layers.conv2d(drop2, filters=128, kernel_size=3, padding=\"same\")\n",
    "    act5 = tf.nn.relu(conv5)\n",
    "    \n",
    "    conv6 = tf.layers.conv2d(act5, filters=128, kernel_size=3, padding=\"same\")\n",
    "    act6 = tf.nn.relu(conv6)\n",
    "        \n",
    "    pool3 = tf.layers.max_pooling2d(act6, pool_size=[2, 2], strides=2)\n",
    "    drop3 = tf.layers.dropout(pool3, 0.2, training=training)\n",
    "    \n",
    "    print(drop3.get_shape())\n",
    "    \n",
    "    # 2次元テンソルに変換\n",
    "    flat = tf.reshape(drop3, [-1, 4*4*128])\n",
    "    fc1 = tf.layers.dense(flat, 1024, activation=tf.nn.relu)\n",
    "    drop4 = tf.layers.dropout(fc1, 0.5, training=training)\n",
    "    fc2 = tf.layers.dense(drop4, 1024, activation=tf.nn.relu)\n",
    "    drop5 = tf.layers.dropout(fc2, 0.5, training=training)\n",
    "    out = tf.layers.dense(drop5, 10)\n",
    "    \n",
    "    return out"
   ]
  },
  {
   "cell_type": "markdown",
   "metadata": {},
   "source": [
    "## グラフの構築"
   ]
  },
  {
   "cell_type": "code",
   "execution_count": null,
   "metadata": {},
   "outputs": [],
   "source": [
    "tf.reset_default_graph()\n",
    "\n",
    "# パラメータ\n",
    "lr = 0.001\n",
    "n_epoch = 100\n",
    "batchsize = 64\n",
    "\n",
    "# 入力\n",
    "x = tf.placeholder(tf.float32, [None, 32, 32, 3]) # 32*32次元 \n",
    "t = tf.placeholder(tf.float32, [None, 10]) # 10クラス\n",
    "training = tf.placeholder(tf.bool)\n",
    "\n",
    "# CNN\n",
    "y = CNN(x, training)\n",
    "\n",
    "# 目的関数:softmax cross entropy\n",
    "# 入力：labels->正解ラベル， logits：predictionの結果\n",
    "# 出力：softmax cross entropyで計算された誤差\n",
    "xentropy = tf.nn.softmax_cross_entropy_with_logits(labels=t, logits=y)\n",
    "cost = tf.reduce_mean(xentropy)\n",
    "\n",
    "# Optimizer\n",
    "optimizer = tf.train.AdamOptimizer(lr).minimize(cost)\n",
    "\n",
    "# test用\n",
    "correct_prediction = tf.equal(tf.argmax(y, 1), tf.argmax(t, 1))\n",
    "accuracy = tf.reduce_mean(tf.cast(correct_prediction, tf.float32))"
   ]
  },
  {
   "cell_type": "markdown",
   "metadata": {},
   "source": [
    "## グラフの実行"
   ]
  },
  {
   "cell_type": "code",
   "execution_count": null,
   "metadata": {},
   "outputs": [],
   "source": [
    "with tf.Session() as sess:\n",
    "    sess.run(tf.global_variables_initializer())\n",
    "    \n",
    "    for epoch in range(n_epoch):\n",
    "        print ('epoch %2d | ' % epoch, end=\"\")\n",
    "\n",
    "        # Training\n",
    "        sum_loss = 0\n",
    "        # 訓練データをシャッフルする\n",
    "        perm = np.random.permutation(N_train)\n",
    "\n",
    "        for i in range(0, N_train, batchsize):\n",
    "            # ミニバッチ分のデータを取ってくる\n",
    "            X_batch = X_train[perm[i:i+batchsize]]\n",
    "            #X_batch += np.random.uniform(-0.1, 0.1, X_batch.shape)\n",
    "            t_batch = T_train[perm[i:i+batchsize]]\n",
    "\n",
    "            _, loss = sess.run([optimizer, cost], feed_dict={x:X_batch, t:t_batch, training:True})\n",
    "            sum_loss += loss * X_batch.shape[0]\n",
    "\n",
    "        loss = sum_loss / N_train\n",
    "        print('Train loss %.5f | ' %(loss), end=\"\")\n",
    "\n",
    "        # Test model\n",
    "        print (\"Test Accuracy: %.3f\"%(accuracy.eval(feed_dict={x: X_test[:5000], t: T_test[:5000], training:False})))"
   ]
  },
  {
   "cell_type": "code",
   "execution_count": null,
   "metadata": {},
   "outputs": [],
   "source": []
  }
 ],
 "metadata": {
  "kernelspec": {
   "display_name": "Python 3",
   "language": "python",
   "name": "python3"
  },
  "language_info": {
   "codemirror_mode": {
    "name": "ipython",
    "version": 3
   },
   "file_extension": ".py",
   "mimetype": "text/x-python",
   "name": "python",
   "nbconvert_exporter": "python",
   "pygments_lexer": "ipython3",
   "version": "3.6.5"
  }
 },
 "nbformat": 4,
 "nbformat_minor": 2
}
